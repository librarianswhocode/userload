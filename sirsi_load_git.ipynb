{
 "cells": [
  {
   "cell_type": "code",
   "execution_count": null,
   "metadata": {},
   "outputs": [],
   "source": [
    "import pandas as pd\n",
    "pd.set_option('display.max_columns', 5400)\n",
    "pd.set_option('display.max_colwidth', 500)\n",
    "pd.set_option('display.max_rows', 1000)\n",
    "pd.options.mode.chained_assignment = None  # default='warn'\n",
    "import numpy as np"
   ]
  },
  {
   "cell_type": "markdown",
   "metadata": {},
   "source": [
    "### Open sirsi_load.asc file and convert to Dataframe"
   ]
  },
  {
   "cell_type": "code",
   "execution_count": null,
   "metadata": {},
   "outputs": [],
   "source": [
    "#Open file split on Document Boundary and create list\n",
    "result = list(list(l for l in e.split(\"\\n\") if l) for e in open(\"c:\\\\MyPythonScripts\\\\userload\\\\blog_sample.txt\").read().split(\"*** DOCUMENT BOUNDARY ***\"))"
   ]
  },
  {
   "cell_type": "code",
   "execution_count": null,
   "metadata": {},
   "outputs": [],
   "source": [
    "#creates dataframe uses list to fill columns\n",
    "df = pd.DataFrame(columns=['LDUSER', 'UserID', 'First_Name', 'Middle_Name', \n",
    "                           'Last_Name', 'Suffix', 'Library', 'Profile', 'User_Catagory',\n",
    "                           'Addr Begin', 'Phone', 'Street', 'City/State', 'Zip', 'Email',\n",
    "                           'Addr End', 'Web Auth', 'Privilege Granted','GroupID'], data=result)"
   ]
  },
  {
   "cell_type": "code",
   "execution_count": null,
   "metadata": {},
   "outputs": [],
   "source": [
    "#drops LDUSER column\n",
    "df = df.drop('LDUSER', 1)"
   ]
  },
  {
   "cell_type": "code",
   "execution_count": null,
   "metadata": {},
   "outputs": [],
   "source": [
    "#first row of df is blank, this drops it\n",
    "df = df.reindex(df.index.drop(0)).reset_index(drop=True)"
   ]
  },
  {
   "cell_type": "code",
   "execution_count": null,
   "metadata": {},
   "outputs": [],
   "source": [
    "#drops the field names that are in each cell before the value\n",
    "df['UserID'] = df['UserID'].str.replace(r'\\.USER_ID\\.   \\|a', '')\n",
    "df['First_Name'] = df['First_Name'].str.replace(r'\\.USER_FIRST_NAME\\.   \\|a', '')\n",
    "df['Middle_Name'] = df['Middle_Name'].str.replace(r'\\.USER_MIDDLE_NAME\\.   \\|a', '')\n",
    "df['Last_Name'] = df['Last_Name'].str.replace(r'\\.USER_LAST_NAME\\.   \\|a', '')\n",
    "df['Suffix'] = df['Suffix'].str.replace(r'\\.USER_SUFFIX\\.   \\|a', '')\n",
    "df['Library'] = df['Library'].str.replace(r'\\.USER_LIBRARY\\.   \\|a', '')\n",
    "df['Profile'] = df['Profile'].str.replace(r'\\.USER_PROFILE\\.   \\|a', '')\n",
    "df['User_Catagory'] = df['User_Catagory'].str.replace(r'\\.USER_CATEGORY1\\.   \\|a', '')\n",
    "df['Addr Begin'] = df['Addr Begin'].str.replace(r'\\.USER_ADDR1_BEGIN\\.', '')\n",
    "df['Phone'] = df['Phone'].str.replace(r'\\.DAYPHONE\\.   \\|a', '')\n",
    "df['Street'] = df['Street'].str.replace(r'\\.STREET\\.   \\|a', '')\n",
    "df['City/State'] = df['City/State'].str.replace(r'\\.CITY/STATE\\.   \\|a', '')\n",
    "df['Zip'] = df['Zip'].str.replace(r'\\.ZIP\\.   \\|a', '')\n",
    "df['Email'] = df['Email'].str.replace(r'\\.EMAIL\\.   \\|a', '')\n",
    "df['Addr End'] = df['Addr End'].str.replace(r'\\.USER_ADDR1_END\\.', '')\n",
    "df['Web Auth'] = df['Web Auth'].str.replace(r'\\.USER_WEB_AUTH\\.   \\|a', '')\n",
    "df['Privilege Granted'] = df['Privilege Granted'].str.replace(r'\\.USER_PRIV_GRANTED\\.   \\|a', '')\n",
    "df['GroupID'] = df['GroupID'].str.replace(r'\\.USER_GROUP_ID\\.   \\|a', '')"
   ]
  },
  {
   "cell_type": "code",
   "execution_count": null,
   "metadata": {},
   "outputs": [],
   "source": [
    "#Trim White Space\n",
    "df = df.apply(lambda x: x.str.strip() if x.dtype == \"object\" else x)"
   ]
  },
  {
   "cell_type": "code",
   "execution_count": null,
   "metadata": {},
   "outputs": [],
   "source": [
    "#drop duplicates based on UserID\n",
    "df_load = df.drop_duplicates(['UserID'])"
   ]
  },
  {
   "cell_type": "code",
   "execution_count": null,
   "metadata": {},
   "outputs": [],
   "source": [
    "df_load"
   ]
  },
  {
   "cell_type": "markdown",
   "metadata": {},
   "source": [
    "### Edit file. Code may change depending on what needs to be edited."
   ]
  },
  {
   "cell_type": "code",
   "execution_count": null,
   "metadata": {},
   "outputs": [],
   "source": [
    "temp_profiles = df_load[df_load['Profile']=='TEMP']"
   ]
  },
  {
   "cell_type": "code",
   "execution_count": null,
   "metadata": {},
   "outputs": [],
   "source": [
    "df_load.loc[df_load['GroupID'] == 'Undergraduate', 'Profile'] = 'S1'\n",
    "df_load.loc[df_load['GroupID'] == 'Undergraduate', 'User_Catagory'] = 'Student'"
   ]
  },
  {
   "cell_type": "code",
   "execution_count": null,
   "metadata": {},
   "outputs": [],
   "source": [
    "df_load.loc[df_load['GroupID'] == 'Graduate', 'Profile'] = 'S2'\n",
    "df_load.loc[df_load['GroupID'] == 'Graduate', 'User_Catagory'] = 'Student'"
   ]
  },
  {
   "cell_type": "code",
   "execution_count": null,
   "metadata": {},
   "outputs": [],
   "source": [
    "profiles = df_load.groupby(\"Profile\")['UserID'].count()"
   ]
  },
  {
   "cell_type": "code",
   "execution_count": null,
   "metadata": {},
   "outputs": [],
   "source": [
    "profiles"
   ]
  },
  {
   "cell_type": "markdown",
   "metadata": {},
   "source": [
    "### Save file to csv for sharing with others"
   ]
  },
  {
   "cell_type": "code",
   "execution_count": null,
   "metadata": {},
   "outputs": [],
   "source": [
    "#save file to csv\n",
    "#df_load.to_csv(\"c:\\\\MyPythonScripts\\\\userload\\\\sirsi_load_82020.csv\", index=False) "
   ]
  },
  {
   "cell_type": "markdown",
   "metadata": {},
   "source": [
    "### Format file back into ASCII format"
   ]
  },
  {
   "cell_type": "code",
   "execution_count": null,
   "metadata": {},
   "outputs": [],
   "source": [
    "#rename columns so they format correctly on the text file\n",
    "df_load.rename(columns={'UserID':'.USER_ID.   |a', 'First_Name':'.USER_FIRST_NAME.   |a', 'Middle_Name':'.USER_MIDDLE_NAME.   |a', 'Last_Name':'.USER_LAST_NAME.   |a', 'Suffix':'.USER_SUFFIX.   |a', 'Library':'.USER_LIBRARY.   |a', 'Profile':'.USER_PROFILE.   |a', 'User_Catagory':'.USER_CATEGORY1.   |a', 'GroupID':'.USER_GROUP_ID.   |a', 'Phone':'.DAYPHONE.   |a', 'Privilege Granted':'.USER_PRIV_GRANTED.   |a', 'Web Auth':'.USER_WEB_AUTH.   |a', 'Email':'.EMAIL.   |a', 'Zip':'.ZIP.   |a', 'City/State':'.CITY/STATE.   |a', 'Street':'.STREET.   |a', 'Addr Begin':'.USER_ADDR1_BEGIN.', 'Addr End':'.USER_ADDR1_END.'},inplace=True)"
   ]
  },
  {
   "cell_type": "code",
   "execution_count": null,
   "metadata": {},
   "outputs": [],
   "source": [
    "#add NaN to blank fields so text file formats correctly\n",
    "df_load = df_load.replace('', np.NaN)"
   ]
  },
  {
   "cell_type": "code",
   "execution_count": null,
   "metadata": {},
   "outputs": [],
   "source": [
    "#print a small amount of the file to verify format\n",
    "doc = '*** DOCUMENT BOUNDARY ***'\n",
    "ldu = 'FORM=LDUSER'\n",
    "for i, row in df_load.head().iterrows():\n",
    "        print(doc + '\\n' + ldu)\n",
    "        print(re.sub('([\\|][a])\\s+', r'\\1', str(row)))        "
   ]
  },
  {
   "cell_type": "code",
   "execution_count": null,
   "metadata": {},
   "outputs": [],
   "source": [
    "#save formated file\n",
    "#use Notepad ++ to replace using regex. Replace all NaN with blank. Replace Name:\\s\\d+,\\sdtype:\\sobject with blank\n",
    "doc = '*** DOCUMENT BOUNDARY ***'\n",
    "ldu = 'FORM=LDUSER'\n",
    "with open('c:\\\\MyPythonScripts\\\\userload\\\\blog_sample_new.txt', 'w') as f:\n",
    "    for i, row in df_load.iterrows():\n",
    "        f.write(str(doc + '\\n' + ldu + '\\n'))\n",
    "        f.write(re.sub('([\\|][a])\\s+', r'\\1', str(row)))\n",
    "f.close()"
   ]
  },
  {
   "cell_type": "markdown",
   "metadata": {},
   "source": [
    "### After export use Notepad++ to replace using regex. Replace all 'NaN' with blank, make sure to match case!. Replace 'Name:\\s\\d+,\\sdtype:\\sobject' with blank"
   ]
  }
 ],
 "metadata": {
  "kernelspec": {
   "display_name": "Python 3",
   "language": "python",
   "name": "python3"
  },
  "language_info": {
   "codemirror_mode": {
    "name": "ipython",
    "version": 3
   },
   "file_extension": ".py",
   "mimetype": "text/x-python",
   "name": "python",
   "nbconvert_exporter": "python",
   "pygments_lexer": "ipython3",
   "version": "3.7.3"
  }
 },
 "nbformat": 4,
 "nbformat_minor": 4
}
